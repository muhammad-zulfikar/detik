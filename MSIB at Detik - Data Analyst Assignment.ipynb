{
 "cells": [
  {
   "cell_type": "markdown",
   "metadata": {
    "id": "aSZycFpUN-bq",
    "jp-MarkdownHeadingCollapsed": true
   },
   "source": [
    "# Introduction\n",
    "\n",
    "In this notebook, we will explore and analyze a dataset related to Detik, one of the largest news platforms in Indonesia. The dataset contains information on user interactions with various news articles published on the Detik website. By analyzing this data, we aim to uncover insights into how readers engage with the content, what types of articles generate the most interest, and which factors contribute to higher or lower levels of engagement. This analysis is conducted using Jupyter Notebook on 11 August by Muhammad Zulfikar, as the assignment for MSIB Batch 7 at Detik as a Data Analyst."
   ]
  },
  {
   "cell_type": "markdown",
   "metadata": {
    "id": "SDXC-g8XOLQZ"
   },
   "source": [
    "# Data Loading, Cleaning, and Initial Exploration"
   ]
  },
  {
   "cell_type": "code",
   "execution_count": 1,
   "metadata": {
    "id": "0Uv1iMnKcQtr"
   },
   "outputs": [],
   "source": [
    "import pandas as pd\n",
    "import matplotlib.pyplot as plt\n",
    "import seaborn as sns\n",
    "\n",
    "# Load the CSV file\n",
    "# URL of the Google Sheets CSV\n",
    "url = \"https://docs.google.com/spreadsheets/d/1xjDebq9w7BjmAlH87EFbuxgWk2YpK2MguNiyr2rWngY/pub?output=csv\"\n",
    "\n",
    "# Read the CSV file from the URL\n",
    "df = pd.read_csv(url)"
   ]
  },
  {
   "cell_type": "code",
   "execution_count": 2,
   "metadata": {
    "colab": {
     "base_uri": "https://localhost:8080/"
    },
    "id": "ZeJBH28Tiie0",
    "outputId": "92f52a76-0482-48ae-ac96-3e7712d303b8"
   },
   "outputs": [
    {
     "name": "stdout",
     "output_type": "stream",
     "text": [
      "<class 'pandas.core.frame.DataFrame'>\n",
      "RangeIndex: 156 entries, 0 to 155\n",
      "Data columns (total 7 columns):\n",
      " #   Column                  Non-Null Count  Dtype  \n",
      "---  ------                  --------------  -----  \n",
      " 0   Source/Medium           156 non-null    object \n",
      " 1   Page Title              156 non-null    object \n",
      " 2   Users                   155 non-null    float64\n",
      " 3   Bounce Rate             155 non-null    float64\n",
      " 4   Page Views              155 non-null    float64\n",
      " 5   Page Views Per Session  155 non-null    float64\n",
      " 6   Average Time On Page    155 non-null    float64\n",
      "dtypes: float64(5), object(2)\n",
      "memory usage: 8.7+ KB\n"
     ]
    }
   ],
   "source": [
    "# Display basic information about the dataset\n",
    "df.info()"
   ]
  },
  {
   "cell_type": "code",
   "execution_count": 3,
   "metadata": {
    "colab": {
     "base_uri": "https://localhost:8080/",
     "height": 206
    },
    "id": "UpImNJlaPwp3",
    "outputId": "c0ca1cec-1b20-44d1-af85-4cb632d14611"
   },
   "outputs": [
    {
     "data": {
      "text/html": [
       "<div>\n",
       "<style scoped>\n",
       "    .dataframe tbody tr th:only-of-type {\n",
       "        vertical-align: middle;\n",
       "    }\n",
       "\n",
       "    .dataframe tbody tr th {\n",
       "        vertical-align: top;\n",
       "    }\n",
       "\n",
       "    .dataframe thead th {\n",
       "        text-align: right;\n",
       "    }\n",
       "</style>\n",
       "<table border=\"1\" class=\"dataframe\">\n",
       "  <thead>\n",
       "    <tr style=\"text-align: right;\">\n",
       "      <th></th>\n",
       "      <th>Source/Medium</th>\n",
       "      <th>Page Title</th>\n",
       "      <th>Users</th>\n",
       "      <th>Bounce Rate</th>\n",
       "      <th>Page Views</th>\n",
       "      <th>Page Views Per Session</th>\n",
       "      <th>Average Time On Page</th>\n",
       "    </tr>\n",
       "  </thead>\n",
       "  <tbody>\n",
       "    <tr>\n",
       "      <th>0</th>\n",
       "      <td>facebook / cpc</td>\n",
       "      <td>Bikin Lambe Turah Diomelin, Nih Si Seksi yang ...</td>\n",
       "      <td>13736.0</td>\n",
       "      <td>19.269967</td>\n",
       "      <td>83593.0</td>\n",
       "      <td>6.042140</td>\n",
       "      <td>21.790189</td>\n",
       "    </tr>\n",
       "    <tr>\n",
       "      <th>1</th>\n",
       "      <td>facebook / cpc</td>\n",
       "      <td>Heboh! Kiki Farel Transfer Uang Jajan Rp 1 Jut...</td>\n",
       "      <td>15909.0</td>\n",
       "      <td>62.303763</td>\n",
       "      <td>74032.0</td>\n",
       "      <td>4.612011</td>\n",
       "      <td>16.330553</td>\n",
       "    </tr>\n",
       "    <tr>\n",
       "      <th>2</th>\n",
       "      <td>facebook / cpc</td>\n",
       "      <td>Tak Sesuai Harapan, Barang Belanja Online Ini ...</td>\n",
       "      <td>7748.0</td>\n",
       "      <td>30.934520</td>\n",
       "      <td>54657.0</td>\n",
       "      <td>6.949396</td>\n",
       "      <td>21.429338</td>\n",
       "    </tr>\n",
       "    <tr>\n",
       "      <th>3</th>\n",
       "      <td>facebook / cpc</td>\n",
       "      <td>Antar 'Tuyul', 7 Pengemudi Grab Dibekuk</td>\n",
       "      <td>43893.0</td>\n",
       "      <td>6.966219</td>\n",
       "      <td>47924.0</td>\n",
       "      <td>1.106560</td>\n",
       "      <td>5.056397</td>\n",
       "    </tr>\n",
       "    <tr>\n",
       "      <th>4</th>\n",
       "      <td>facebook / cpc</td>\n",
       "      <td>Melihat Kantor Pelayanan Grab Driver Center</td>\n",
       "      <td>41155.0</td>\n",
       "      <td>11.630219</td>\n",
       "      <td>44072.0</td>\n",
       "      <td>43.809145</td>\n",
       "      <td>180.944233</td>\n",
       "    </tr>\n",
       "  </tbody>\n",
       "</table>\n",
       "</div>"
      ],
      "text/plain": [
       "    Source/Medium                                         Page Title    Users  \\\n",
       "0  facebook / cpc  Bikin Lambe Turah Diomelin, Nih Si Seksi yang ...  13736.0   \n",
       "1  facebook / cpc  Heboh! Kiki Farel Transfer Uang Jajan Rp 1 Jut...  15909.0   \n",
       "2  facebook / cpc  Tak Sesuai Harapan, Barang Belanja Online Ini ...   7748.0   \n",
       "3  facebook / cpc            Antar 'Tuyul', 7 Pengemudi Grab Dibekuk  43893.0   \n",
       "4  facebook / cpc        Melihat Kantor Pelayanan Grab Driver Center  41155.0   \n",
       "\n",
       "   Bounce Rate  Page Views  Page Views Per Session  Average Time On Page  \n",
       "0    19.269967     83593.0                6.042140             21.790189  \n",
       "1    62.303763     74032.0                4.612011             16.330553  \n",
       "2    30.934520     54657.0                6.949396             21.429338  \n",
       "3     6.966219     47924.0                1.106560              5.056397  \n",
       "4    11.630219     44072.0               43.809145            180.944233  "
      ]
     },
     "execution_count": 3,
     "metadata": {},
     "output_type": "execute_result"
    }
   ],
   "source": [
    "# Show the first few rows of the data\n",
    "df.head()"
   ]
  },
  {
   "cell_type": "code",
   "execution_count": 4,
   "metadata": {
    "colab": {
     "base_uri": "https://localhost:8080/",
     "height": 300
    },
    "id": "mUnuqa4DiYOM",
    "outputId": "7b17007a-d8c6-4241-8597-0d58a1b98261"
   },
   "outputs": [
    {
     "data": {
      "text/html": [
       "<div>\n",
       "<style scoped>\n",
       "    .dataframe tbody tr th:only-of-type {\n",
       "        vertical-align: middle;\n",
       "    }\n",
       "\n",
       "    .dataframe tbody tr th {\n",
       "        vertical-align: top;\n",
       "    }\n",
       "\n",
       "    .dataframe thead th {\n",
       "        text-align: right;\n",
       "    }\n",
       "</style>\n",
       "<table border=\"1\" class=\"dataframe\">\n",
       "  <thead>\n",
       "    <tr style=\"text-align: right;\">\n",
       "      <th></th>\n",
       "      <th>Users</th>\n",
       "      <th>Bounce Rate</th>\n",
       "      <th>Page Views</th>\n",
       "      <th>Page Views Per Session</th>\n",
       "      <th>Average Time On Page</th>\n",
       "    </tr>\n",
       "  </thead>\n",
       "  <tbody>\n",
       "    <tr>\n",
       "      <th>count</th>\n",
       "      <td>155.000000</td>\n",
       "      <td>155.000000</td>\n",
       "      <td>155.000000</td>\n",
       "      <td>155.000000</td>\n",
       "      <td>155.000000</td>\n",
       "    </tr>\n",
       "    <tr>\n",
       "      <th>mean</th>\n",
       "      <td>1995.722581</td>\n",
       "      <td>31.925982</td>\n",
       "      <td>3607.174194</td>\n",
       "      <td>16.204284</td>\n",
       "      <td>75.428357</td>\n",
       "    </tr>\n",
       "    <tr>\n",
       "      <th>std</th>\n",
       "      <td>6449.314679</td>\n",
       "      <td>36.030184</td>\n",
       "      <td>11845.050364</td>\n",
       "      <td>32.522916</td>\n",
       "      <td>77.975259</td>\n",
       "    </tr>\n",
       "    <tr>\n",
       "      <th>min</th>\n",
       "      <td>9.000000</td>\n",
       "      <td>0.000000</td>\n",
       "      <td>215.000000</td>\n",
       "      <td>0.000000</td>\n",
       "      <td>2.814915</td>\n",
       "    </tr>\n",
       "    <tr>\n",
       "      <th>25%</th>\n",
       "      <td>108.000000</td>\n",
       "      <td>0.000000</td>\n",
       "      <td>287.000000</td>\n",
       "      <td>0.000000</td>\n",
       "      <td>16.948403</td>\n",
       "    </tr>\n",
       "    <tr>\n",
       "      <th>50%</th>\n",
       "      <td>233.000000</td>\n",
       "      <td>17.070773</td>\n",
       "      <td>431.000000</td>\n",
       "      <td>2.353535</td>\n",
       "      <td>44.720930</td>\n",
       "    </tr>\n",
       "    <tr>\n",
       "      <th>75%</th>\n",
       "      <td>458.000000</td>\n",
       "      <td>62.401881</td>\n",
       "      <td>826.000000</td>\n",
       "      <td>22.194444</td>\n",
       "      <td>109.392803</td>\n",
       "    </tr>\n",
       "    <tr>\n",
       "      <th>max</th>\n",
       "      <td>43893.000000</td>\n",
       "      <td>100.000000</td>\n",
       "      <td>83593.000000</td>\n",
       "      <td>268.833333</td>\n",
       "      <td>449.897196</td>\n",
       "    </tr>\n",
       "  </tbody>\n",
       "</table>\n",
       "</div>"
      ],
      "text/plain": [
       "              Users  Bounce Rate    Page Views  Page Views Per Session  \\\n",
       "count    155.000000   155.000000    155.000000              155.000000   \n",
       "mean    1995.722581    31.925982   3607.174194               16.204284   \n",
       "std     6449.314679    36.030184  11845.050364               32.522916   \n",
       "min        9.000000     0.000000    215.000000                0.000000   \n",
       "25%      108.000000     0.000000    287.000000                0.000000   \n",
       "50%      233.000000    17.070773    431.000000                2.353535   \n",
       "75%      458.000000    62.401881    826.000000               22.194444   \n",
       "max    43893.000000   100.000000  83593.000000              268.833333   \n",
       "\n",
       "       Average Time On Page  \n",
       "count            155.000000  \n",
       "mean              75.428357  \n",
       "std               77.975259  \n",
       "min                2.814915  \n",
       "25%               16.948403  \n",
       "50%               44.720930  \n",
       "75%              109.392803  \n",
       "max              449.897196  "
      ]
     },
     "execution_count": 4,
     "metadata": {},
     "output_type": "execute_result"
    }
   ],
   "source": [
    "# Display summary statistics\n",
    "df.describe()"
   ]
  },
  {
   "cell_type": "code",
   "execution_count": 5,
   "metadata": {
    "id": "35PisNrlP5KB"
   },
   "outputs": [
    {
     "data": {
      "text/plain": [
       "Source/Medium             0\n",
       "Page Title                0\n",
       "Users                     1\n",
       "Bounce Rate               1\n",
       "Page Views                1\n",
       "Page Views Per Session    1\n",
       "Average Time On Page      1\n",
       "dtype: int64"
      ]
     },
     "execution_count": 5,
     "metadata": {},
     "output_type": "execute_result"
    }
   ],
   "source": [
    "# Check for missing values\n",
    "df.isnull().sum()"
   ]
  },
  {
   "cell_type": "code",
   "execution_count": 6,
   "metadata": {},
   "outputs": [],
   "source": [
    "# Remove rows with missing values\n",
    "df = df.dropna()"
   ]
  },
  {
   "cell_type": "markdown",
   "metadata": {
    "id": "pcHzMxD7i6To"
   },
   "source": [
    "## Data Overview and Summary Statistics:\n",
    "\n",
    "The dataset contains information about web page traffic, with 156 entries and 7 columns. After removing one row with missing values, we're left with 155 entries. The data includes:\n",
    "\n",
    "- Source/Medium: Traffic source\n",
    "- Page Title: Title of the web page\n",
    "- Users: Number of visitors\n",
    "- Bounce Rate: Percentage of single-page sessions\n",
    "- Page Views: Total page views\n",
    "- Page Views Per Session: Average pageviews per session\n",
    "- Average Time On Page: Average time spent on the page (in seconds)\n",
    "\n",
    "## Key statistics:\n",
    "\n",
    "- Average users per page: ~1,996\n",
    "- Average bounce rate: ~31.93%\n",
    "- Average page views: ~3,607\n",
    "- Average page views per session: ~16.20\n",
    "- Average time on page: ~75.43 seconds"
   ]
  },
  {
   "cell_type": "markdown",
   "metadata": {
    "id": "waomPVpOjUnf"
   },
   "source": [
    "# Exploratory Data Analysis (EDA) & Data Visualizations"
   ]
  },
  {
   "cell_type": "markdown",
   "metadata": {
    "id": "Y2ZmEgGYQfEt"
   },
   "source": [
    "## User Distributions"
   ]
  },
  {
   "cell_type": "code",
   "execution_count": 7,
   "metadata": {
    "colab": {
     "base_uri": "https://localhost:8080/",
     "height": 573
    },
    "id": "OzH55ZE1i51M",
    "outputId": "7e7c10c2-f7eb-4f53-ed67-85bc48782276"
   },
   "outputs": [
    {
     "data": {
      "image/png": "[encoded data removed]",
      "text/plain": [
       "<Figure size 1000x600 with 1 Axes>"
      ]
     },
     "metadata": {},
     "output_type": "display_data"
    }
   ],
   "source": [
    "# Set the style for the plots\n",
    "sns.set(style='whitegrid')\n",
    "\n",
    "# Plot the distribution of users\n",
    "plt.figure(figsize=(10, 6))\n",
    "sns.histplot(df['Users'].dropna(), bins=30, kde=True)\n",
    "plt.title('Distribution of Users')\n",
    "plt.xlabel('Number of Users')\n",
    "plt.ylabel('Frequency')\n",
    "plt.show()"
   ]
  },
  {
   "cell_type": "markdown",
   "metadata": {
    "id": "Byn99yilL3LR"
   },
   "source": [
    "The histogram shows the distribution of users across the web pages. The plot reveals:\n",
    "\n",
    "A highly right-skewed distribution\n",
    "Most pages have relatively low user counts (under 5,000)\n",
    "A few pages have extremely high user counts (over 40,000)\n",
    "\n",
    "This distribution suggests that a small number of \"viral\" or highly popular pages are driving a significant portion of the overall traffic."
   ]
  },
  {
   "cell_type": "markdown",
   "metadata": {
    "id": "vwnbbdr4QrCK"
   },
   "source": [
    "## Pageviews vs. Users"
   ]
  },
  {
   "cell_type": "code",
   "execution_count": 8,
   "metadata": {
    "colab": {
     "base_uri": "https://localhost:8080/",
     "height": 573
    },
    "id": "t0_RRLhKL9O-",
    "outputId": "a0fb33cf-ad43-4f91-93bc-9fd0b749e7e9"
   },
   "outputs": [
    {
     "data": {
      "image/png": "[encoded data removed]",
      "text/plain": [
       "<Figure size 1000x600 with 1 Axes>"
      ]
     },
     "metadata": {},
     "output_type": "display_data"
    }
   ],
   "source": [
    "# Plot the relationship between pageviews and users\n",
    "plt.figure(figsize=(10, 6))\n",
    "sns.scatterplot(x='Users', y='Page Views', data=df)\n",
    "plt.title('Pageviews vs. Users')\n",
    "plt.xlabel('Number of Users')\n",
    "plt.ylabel('Number of Pageviews')\n",
    "plt.show()"
   ]
  },
  {
   "cell_type": "markdown",
   "metadata": {
    "id": "RKv8Fa5OL-lE"
   },
   "source": [
    "- A strong positive correlation between users and pageviews\n",
    "- Most data points clustered in the lower left corner (low users, low pageviews)\n",
    "- A few outliers with very high users and pageviews\n",
    "\n",
    "This relationship is expected: more users generally lead to more pageviews. However, the outliers are particularly interesting. These represent highly successful pages that not only attract many users but also generate many views, possibly indicating engaging content that users are sharing or returning to multiple times."
   ]
  },
  {
   "cell_type": "markdown",
   "metadata": {
    "id": "TEEpOtOaRFIu"
   },
   "source": [
    "## Bounce Rate Distribution"
   ]
  },
  {
   "cell_type": "code",
   "execution_count": 9,
   "metadata": {
    "colab": {
     "base_uri": "https://localhost:8080/",
     "height": 573
    },
    "id": "rdY69393j3u3",
    "outputId": "c75f375c-2d48-4870-a3b1-a4eabfb53001"
   },
   "outputs": [
    {
     "data": {
      "image/png": "[encoded data removed]",
      "text/plain": [
       "<Figure size 1000x600 with 1 Axes>"
      ]
     },
     "metadata": {},
     "output_type": "display_data"
    }
   ],
   "source": [
    "# Plot the distribution of bounce rates\n",
    "plt.figure(figsize=(10, 6))\n",
    "sns.histplot(df['Bounce Rate'].dropna(), bins=30, kde=True)\n",
    "plt.title('Distribution of Bounce Rates')\n",
    "plt.xlabel('Bounce Rate (%)')\n",
    "plt.ylabel('Frequency')\n",
    "plt.show()"
   ]
  },
  {
   "cell_type": "markdown",
   "metadata": {
    "id": "1UJ2Gdg-MXE1"
   },
   "source": [
    "- A bimodal distribution\n",
    "- One peak near 0% bounce rate\n",
    "- Another peak around 60-70% bounce rate\n",
    "\n",
    "This unusual distribution suggests two distinct types of content:\n",
    "\n",
    "- Highly engaging content that keeps users on the site (low bounce rate)\n",
    "- Content that users tend to view briefly before leaving (high bounce rate)"
   ]
  },
  {
   "cell_type": "markdown",
   "metadata": {
    "id": "Z8J-xGm5RMm7"
   },
   "source": [
    "## Pageviews Per Session vs. Average Time on Page"
   ]
  },
  {
   "cell_type": "code",
   "execution_count": 10,
   "metadata": {
    "colab": {
     "base_uri": "https://localhost:8080/",
     "height": 573
    },
    "id": "ANue7JR5MXlQ",
    "outputId": "c754a0d4-5708-4c54-d68b-410935c5011d"
   },
   "outputs": [
    {
     "data": {
      "image/png": "[encoded data removed]",
      "text/plain": [
       "<Figure size 1000x600 with 1 Axes>"
      ]
     },
     "metadata": {},
     "output_type": "display_data"
    }
   ],
   "source": [
    "# Plot the relationship between pageviews per session and average time on page\n",
    "plt.figure(figsize=(10, 6))\n",
    "sns.scatterplot(x='Page Views Per Session', y='Average Time On Page', data=df)\n",
    "plt.title('Pageviews Per Session vs. Average Time on Page')\n",
    "plt.xlabel('Pageviews Per Session')\n",
    "plt.ylabel('Average Time on Page (seconds)')\n",
    "plt.show()"
   ]
  },
  {
   "cell_type": "markdown",
   "metadata": {
    "id": "MUVxsLU6MkHI"
   },
   "source": [
    "- A positive correlation between pageviews per session and average time on page\n",
    "- Most data points clustered in the lower left (low pageviews per session, low time on page)\n",
    "- A few outliers with very high pageviews per session and/or time on page\n",
    "\n",
    "The correlation makes sense: users who view more pages typically spend more time on the site. The outliers represent exceptionally engaging content that keeps users on the page for a long time or encourages them to view many pages. These could be long-form articles, interactive features, or particularly compelling topics."
   ]
  },
  {
   "cell_type": "markdown",
   "metadata": {
    "id": "MTh0CO0vRS8G"
   },
   "source": [
    "# Engagement Analysis"
   ]
  },
  {
   "cell_type": "markdown",
   "metadata": {
    "id": "y7r0M9CwRXks"
   },
   "source": [
    "## Calculating Engagement Scores"
   ]
  },
  {
   "cell_type": "code",
   "execution_count": 11,
   "metadata": {
    "id": "-6zST6IrkRWN"
   },
   "outputs": [],
   "source": [
    "# Identify articles with the highest and lowest engagement based on bounce rate, pageviews per session, and average time on page\n",
    "\n",
    "# Calculate engagement score as a combination of low bounce rate, high pageviews per session, and high average time on page\n",
    "# Normalize the metrics for comparison\n",
    "from sklearn.preprocessing import MinMaxScaler\n",
    "\n",
    "# Select relevant columns and create a copy to avoid warnings\n",
    "engagement_data = df[['Page Title', 'Bounce Rate', 'Page Views Per Session', 'Average Time On Page']].copy()\n",
    "\n",
    "# Initialize the scaler\n",
    "scaler = MinMaxScaler()\n",
    "\n",
    "# Normalize the data and assign it back using .loc[]\n",
    "engagement_data.loc[:, ['Bounce Rate', 'Page Views Per Session', 'Average Time On Page']] = scaler.fit_transform(\n",
    "    engagement_data[['Bounce Rate', 'Page Views Per Session', 'Average Time On Page']]\n",
    ")\n",
    "\n",
    "# Calculate engagement score\n",
    "engagement_data['engagement_score'] = (\n",
    "    (1 - engagement_data['Bounce Rate']) +\n",
    "    engagement_data['Page Views Per Session'] +\n",
    "    engagement_data['Average Time On Page']\n",
    ")\n",
    "\n",
    "# Sort by engagement score\n",
    "engagement_data_sorted = engagement_data.sort_values(by='engagement_score', ascending=False)"
   ]
  },
  {
   "cell_type": "markdown",
   "metadata": {
    "id": "9qSCkKD0RdP3"
   },
   "source": [
    "## Identifying Top and Bottom Articles by Engagement"
   ]
  },
  {
   "cell_type": "code",
   "execution_count": 12,
   "metadata": {
    "colab": {
     "base_uri": "https://localhost:8080/",
     "height": 225
    },
    "id": "n6Q4RXogHWUZ",
    "outputId": "e1ecebd7-200a-41bf-f3df-83ccba98b2d3"
   },
   "outputs": [
    {
     "name": "stdout",
     "output_type": "stream",
     "text": [
      "Top 5 Articles by Engagement:\n"
     ]
    },
    {
     "data": {
      "text/html": [
       "<div>\n",
       "<style scoped>\n",
       "    .dataframe tbody tr th:only-of-type {\n",
       "        vertical-align: middle;\n",
       "    }\n",
       "\n",
       "    .dataframe tbody tr th {\n",
       "        vertical-align: top;\n",
       "    }\n",
       "\n",
       "    .dataframe thead th {\n",
       "        text-align: right;\n",
       "    }\n",
       "</style>\n",
       "<table border=\"1\" class=\"dataframe\">\n",
       "  <thead>\n",
       "    <tr style=\"text-align: right;\">\n",
       "      <th></th>\n",
       "      <th>Page Title</th>\n",
       "      <th>Bounce Rate</th>\n",
       "      <th>Page Views Per Session</th>\n",
       "      <th>Average Time On Page</th>\n",
       "      <th>engagement_score</th>\n",
       "    </tr>\n",
       "  </thead>\n",
       "  <tbody>\n",
       "    <tr>\n",
       "      <th>13</th>\n",
       "      <td>Pasha 'Ungu' Digugat DPRD Palu karena Nyanyi d...</td>\n",
       "      <td>0.5</td>\n",
       "      <td>1.000000</td>\n",
       "      <td>0.173962</td>\n",
       "      <td>1.673962</td>\n",
       "    </tr>\n",
       "    <tr>\n",
       "      <th>23</th>\n",
       "      <td>Meme detikHOT: Dinda Syarif di Ganasnya Gerbon...</td>\n",
       "      <td>0.0</td>\n",
       "      <td>0.634429</td>\n",
       "      <td>0.012410</td>\n",
       "      <td>1.646838</td>\n",
       "    </tr>\n",
       "    <tr>\n",
       "      <th>34</th>\n",
       "      <td>Diprotes TNI AD, Pihak RCTI Minta Maaf</td>\n",
       "      <td>0.0</td>\n",
       "      <td>0.422815</td>\n",
       "      <td>0.210291</td>\n",
       "      <td>1.633105</td>\n",
       "    </tr>\n",
       "    <tr>\n",
       "      <th>67</th>\n",
       "      <td>Gempa 6,4 SR Guncang Ibu Kota</td>\n",
       "      <td>0.0</td>\n",
       "      <td>0.000000</td>\n",
       "      <td>0.551899</td>\n",
       "      <td>1.551899</td>\n",
       "    </tr>\n",
       "    <tr>\n",
       "      <th>86</th>\n",
       "      <td>Andi Narogong Ungkap Peran Novanto cs di Proye...</td>\n",
       "      <td>0.0</td>\n",
       "      <td>0.000000</td>\n",
       "      <td>0.507858</td>\n",
       "      <td>1.507858</td>\n",
       "    </tr>\n",
       "  </tbody>\n",
       "</table>\n",
       "</div>"
      ],
      "text/plain": [
       "                                           Page Title  Bounce Rate  \\\n",
       "13  Pasha 'Ungu' Digugat DPRD Palu karena Nyanyi d...          0.5   \n",
       "23  Meme detikHOT: Dinda Syarif di Ganasnya Gerbon...          0.0   \n",
       "34             Diprotes TNI AD, Pihak RCTI Minta Maaf          0.0   \n",
       "67                      Gempa 6,4 SR Guncang Ibu Kota          0.0   \n",
       "86  Andi Narogong Ungkap Peran Novanto cs di Proye...          0.0   \n",
       "\n",
       "    Page Views Per Session  Average Time On Page  engagement_score  \n",
       "13                1.000000              0.173962          1.673962  \n",
       "23                0.634429              0.012410          1.646838  \n",
       "34                0.422815              0.210291          1.633105  \n",
       "67                0.000000              0.551899          1.551899  \n",
       "86                0.000000              0.507858          1.507858  "
      ]
     },
     "execution_count": 12,
     "metadata": {},
     "output_type": "execute_result"
    }
   ],
   "source": [
    "# Display top 5 articles by engagement\n",
    "print(\"Top 5 Articles by Engagement:\")\n",
    "engagement_data_sorted.head()"
   ]
  },
  {
   "cell_type": "markdown",
   "metadata": {
    "id": "ilcCLP22M7kx"
   },
   "source": [
    "The analysis calculates an engagement score based on bounce rate, pageviews per session, and average time on page.\n",
    "\n",
    "## Top 5 engaging articles:\n",
    "\n",
    "- \"Pasha 'Ungu' Digugat DPRD Palu karena Nyanyi di Singapura\"\n",
    "- \"Meme detikHOT: Dinda Syarif di Ganasnya Gerbong KRL Wanita\"\n",
    "- \"Diprotes TNI AD, Pihak RCTI Minta Maaf\"\n",
    "- \"Gempa 6,4 SR Guncang Ibu Kota\"\n",
    "- \"Andi Narogong Ungkap Peran Novanto cs di Proyek e-KTP\"\n",
    "\n",
    "These articles seem to be a mix of entertainment news, controversy, and breaking news about natural disasters and politics."
   ]
  },
  {
   "cell_type": "code",
   "execution_count": 13,
   "metadata": {
    "colab": {
     "base_uri": "https://localhost:8080/",
     "height": 225
    },
    "id": "XrW1Q4gtHX9V",
    "outputId": "67a6a236-70b4-4aa9-e5b6-200cd11bef9b"
   },
   "outputs": [
    {
     "name": "stdout",
     "output_type": "stream",
     "text": [
      "Bottom 5 Articles by Engagement:\n"
     ]
    },
    {
     "data": {
      "text/html": [
       "<div>\n",
       "<style scoped>\n",
       "    .dataframe tbody tr th:only-of-type {\n",
       "        vertical-align: middle;\n",
       "    }\n",
       "\n",
       "    .dataframe tbody tr th {\n",
       "        vertical-align: top;\n",
       "    }\n",
       "\n",
       "    .dataframe thead th {\n",
       "        text-align: right;\n",
       "    }\n",
       "</style>\n",
       "<table border=\"1\" class=\"dataframe\">\n",
       "  <thead>\n",
       "    <tr style=\"text-align: right;\">\n",
       "      <th></th>\n",
       "      <th>Page Title</th>\n",
       "      <th>Bounce Rate</th>\n",
       "      <th>Page Views Per Session</th>\n",
       "      <th>Average Time On Page</th>\n",
       "      <th>engagement_score</th>\n",
       "    </tr>\n",
       "  </thead>\n",
       "  <tbody>\n",
       "    <tr>\n",
       "      <th>79</th>\n",
       "      <td>Potret Kepanikan Warga Jakarta saat Gempa 6,4 SR</td>\n",
       "      <td>1.0</td>\n",
       "      <td>0.174416</td>\n",
       "      <td>0.046703</td>\n",
       "      <td>0.221119</td>\n",
       "    </tr>\n",
       "    <tr>\n",
       "      <th>87</th>\n",
       "      <td>Komentar : 2 Pelajar di Yogya Lempar Batu ke M...</td>\n",
       "      <td>1.0</td>\n",
       "      <td>0.081628</td>\n",
       "      <td>0.098564</td>\n",
       "      <td>0.180192</td>\n",
       "    </tr>\n",
       "    <tr>\n",
       "      <th>113</th>\n",
       "      <td>Istri Jual Suami Demi Layanan Fantasi, Polisi:...</td>\n",
       "      <td>1.0</td>\n",
       "      <td>0.039540</td>\n",
       "      <td>0.136742</td>\n",
       "      <td>0.176282</td>\n",
       "    </tr>\n",
       "    <tr>\n",
       "      <th>91</th>\n",
       "      <td>Meme Kocak Sambut Rumah DP Rp 0 Langsung Ramai...</td>\n",
       "      <td>1.0</td>\n",
       "      <td>0.152098</td>\n",
       "      <td>0.022506</td>\n",
       "      <td>0.174604</td>\n",
       "    </tr>\n",
       "    <tr>\n",
       "      <th>96</th>\n",
       "      <td>Foto: Gus Ipul Diapit Via Vallen-Nella Kharisma</td>\n",
       "      <td>1.0</td>\n",
       "      <td>0.140938</td>\n",
       "      <td>0.026608</td>\n",
       "      <td>0.167546</td>\n",
       "    </tr>\n",
       "  </tbody>\n",
       "</table>\n",
       "</div>"
      ],
      "text/plain": [
       "                                            Page Title  Bounce Rate  \\\n",
       "79    Potret Kepanikan Warga Jakarta saat Gempa 6,4 SR          1.0   \n",
       "87   Komentar : 2 Pelajar di Yogya Lempar Batu ke M...          1.0   \n",
       "113  Istri Jual Suami Demi Layanan Fantasi, Polisi:...          1.0   \n",
       "91   Meme Kocak Sambut Rumah DP Rp 0 Langsung Ramai...          1.0   \n",
       "96     Foto: Gus Ipul Diapit Via Vallen-Nella Kharisma          1.0   \n",
       "\n",
       "     Page Views Per Session  Average Time On Page  engagement_score  \n",
       "79                 0.174416              0.046703          0.221119  \n",
       "87                 0.081628              0.098564          0.180192  \n",
       "113                0.039540              0.136742          0.176282  \n",
       "91                 0.152098              0.022506          0.174604  \n",
       "96                 0.140938              0.026608          0.167546  "
      ]
     },
     "execution_count": 13,
     "metadata": {},
     "output_type": "execute_result"
    }
   ],
   "source": [
    "# Display bottom 5 articles by engagement\n",
    "print(\"Bottom 5 Articles by Engagement:\")\n",
    "engagement_data_sorted.tail()"
   ]
  },
  {
   "cell_type": "markdown",
   "metadata": {
    "id": "u0H0_8aSMxAO"
   },
   "source": [
    "## Bottom 5 engaging articles:\n",
    "\n",
    "- \"Foto: Gus Ipul Diapit Via Vallen-Nella Kharisma\"\n",
    "- \"Meme Kocak Sambut Rumah DP Rp 0 Langsung Ramai Bertebaran\"\n",
    "- \"Istri Jual Suami Demi Layanan Fantasi, Polisi: Motifnya Ekonomi\"\n",
    "- \"Komentar : 2 Pelajar di Yogya Lempar Batu ke Mobil hingga Tewaskan Pengemudinya\"\n",
    "- \"Potret Kepanikan Warga Jakarta saat Gempa 6,4 SR\"\n",
    "\n",
    "These less engaging articles appear to be a mix of light entertainment, memes, and follow-up stories to breaking news."
   ]
  },
  {
   "cell_type": "markdown",
   "metadata": {
    "id": "ND4qOMNMNQrU"
   },
   "source": [
    "# Summary of Findings and Insights:\n",
    "\n",
    "- Content Performance Variability: There's a wide range in content performance, with some pages attracting thousands of users and others only a few dozen.\n",
    "- Viral Content: A small number of pages drive a large portion of traffic, suggesting the potential impact of \"viral\" content.\n",
    "- User Engagement Patterns: There are two distinct patterns of user engagement – pages with very low bounce rates and pages with high bounce rates. This could indicate different types of content or different user intentions.\n",
    "- Breaking News Impact: Breaking news items, especially about natural disasters or political controversies, tend to have high engagement.\n",
    "- Entertainment Value: Entertainment news, particularly about celebrities or controversial events, often ranks high in engagement.\n",
    "- Content Length and Depth: Pages with high pageviews per session and long average time on page suggest that in-depth or long-form content can be highly engaging when done well.\n",
    "- Meme and Light Content Performance: While some meme-related content performs well, others are among the least engaging, indicating that the success of such content can be hit-or-miss."
   ]
  }
 ],
 "metadata": {
  "colab": {
   "provenance": []
  },
  "kernelspec": {
   "display_name": "Python 3 (ipykernel)",
   "language": "python",
   "name": "python3"
  },
  "language_info": {
   "codemirror_mode": {
    "name": "ipython",
    "version": 3
   },
   "file_extension": ".py",
   "mimetype": "text/x-python",
   "name": "python",
   "nbconvert_exporter": "python",
   "pygments_lexer": "ipython3",
   "version": "3.10.12"
  }
 },
 "nbformat": 4,
 "nbformat_minor": 4
}
